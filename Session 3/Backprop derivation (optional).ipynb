{
 "cells": [
  {
   "cell_type": "markdown",
   "metadata": {
    "id": "HI58iy_1LCXy"
   },
   "source": [
    "### Forward propagation\n",
    "\n",
    "The process of propagating the output of each layer in the forward direction to consequently get the final output is called forward propagation. \n",
    "\n",
    "The output of each hidden layer becomes the input of the next layer. The output is also called the activation for a layer.\n",
    "\n",
    "The output/activation for each layer is computed in two steps:\n",
    "* The weighted sum of the inputs, say $z_i$\n",
    "* The activation function is applied to the above sum $z_i$ to produce the activation $a_i$\n",
    "  \n",
    "Equations:  \n",
    "\n",
    "$$ z^{(1)} = x \\  W^{(1)} + b^{(1)}$$\n",
    "$$ a^{(1)} = g_1(z^{(1)})$$\n",
    "$$ z^{(2)} = a^{(1)} W^{(2)}  + b^{(2)}$$\n",
    "$$ a^{(2)} = g_2(z^{(2)})$$\n",
    "$$ \\vdots $$\n",
    "$$ z^{(n)} = a^{(n-1)} W^{(n)}  + b^{(n)}$$\n",
    "$$ a^{(n)} = g_3(z^{(n)})$$\n",
    "and so on till the final output $y_{pred} = a^{(n)}$.\n",
    "\n",
    "Convention:  \n",
    "$z^{(i)}$: weighted averages of the output from the $(i-1)^{th}$ layer  \n",
    "$a^{(i)}$: activation/output of the $i^{th}$ layer  \n",
    "$g_i$: activation layer of the $i^{th}$ layer  \n",
    "$W^{(i)}$: Weight matrices connecting two layers   \n",
    "$b^{(i)}$: Bias vector for the $i$-th layer  \n",
    "\n",
    "\n",
    "<img align=\"center\" src=\"https://drive.google.com/uc?id=1kcWsASHFLoEgRFNpi_cxgYUElzUvOYro\" width=700 />\n"
   ]
  },
  {
   "cell_type": "markdown",
   "metadata": {
    "id": "jKcwekYBLCXy"
   },
   "source": [
    "### Backward propagation\n",
    "\n",
    "The process of propagating the cost in the backward direction to compute the gradients for each layer so as to update the weights and bias is called backward propagation. \n",
    "\n",
    "Equations:    \n",
    "$$W^{(n)} := W^{(n)} - \\frac{1}{m}\\alpha \\frac{\\partial J}{\\partial W^{(n)}}$$    \n",
    "$$b^{(n)} := b^{(n)} - \\frac{1}{m}\\alpha \\frac{\\partial J}{\\partial b^{(n)}}$$\n",
    "$$ \\vdots $$\n",
    "$$ \\vdots $$ \n",
    "$$W^{(1)} := W^{(1)} - \\frac{1}{m}\\alpha \\frac{\\partial J}{\\partial W^{(1)}}$$   \n",
    "$$b^{(1)} := b^{(1)} - \\frac{1}{m}\\alpha \\frac{\\partial J}{\\partial b^{(1)}}$$  \n",
    "\n",
    "Here, $\\alpha$ is the learning rate that is multiplied to the gradients to tune the size of each weight/bias update.  \n",
    "$m$ is the number of training examples.\n",
    "\n",
    "The gradients are computed using the chain rule for derivatives.\n",
    "\n",
    "<img align=\"center\" src=\"https://drive.google.com/uc?id=1kcWsASHFLoEgRFNpi_cxgYUElzUvOYro\" width=700 />\n",
    "\n",
    "One pass of each forward and backward propagation is called an iteration. When all the training examples are iterated once, it is called an epoch.  "
   ]
  },
  {
   "cell_type": "markdown",
   "metadata": {
    "id": "P7zVL2xALCX0"
   },
   "source": [
    "### Derivation of Backpropagation equations\n",
    "\n",
    "We will derive the equation for the neural network with a single hidden layer shown below:\n",
    "\n",
    "<img align=\"center\" src=\"https://drive.google.com/uc?id=1-d1EFBF4nLH3_Sy-vvCJOAIlxHuwvMsl\" >\n",
    "\n",
    "Let us first write down the equations for **forward propagation** that we will use to derivae the gradients for backpropagation:"
   ]
  },
  {
   "cell_type": "markdown",
   "metadata": {
    "id": "lTkxxhzcLCX0"
   },
   "source": [
    "\\begin{equation}\n",
    "\\left(x_1, x_2 \\right)  \\to\n",
    "\\left( z_1^{(1)}, z_2^{(1)} \\right)\n",
    "\\to\n",
    "\\left(a_1^{(1)}, a_2^{(1)} \\right)\n",
    "\\to\n",
    "z^{(2)}\n",
    "\\to\n",
    "p = a^{(2)}\n",
    "\\end{equation}\n",
    "\n",
    "\\begin{equation}\n",
    "\\begin{split}\n",
    "&z_1^{(1)}= w_{11}^{(1)}x_1 + w_{21}^{(1)}x_2 + b_1^{(1)} \\\\\n",
    "&z_2^{(1)}= w_{12}^{(1)}x_1 + w_{22}^{(1)}x_2 + b_2^{(1)} \\\\\n",
    "\\end{split}\n",
    "\\quad \\quad \\quad\n",
    "\\begin{split}\n",
    "&a_1^{(1)}= g(z_1^{(1)}) \\\\\n",
    "&a_2^{(1)}= g(z_2^{(1)}) \\\\\n",
    "\\end{split}\n",
    "\\quad \\quad \\quad\n",
    "z^{(2)} = w_{1}^{(2)}a_1^{(1)} + w_{2}^{(2)}a_2^{(1)} + b^{(2)}\n",
    "\\quad \\quad \\quad\n",
    "a^{(2)} = g(z^{(2)})\n",
    "\\end{equation}"
   ]
  },
  {
   "cell_type": "markdown",
   "metadata": {
    "id": "o8hSgKCvLCX1"
   },
   "source": [
    "We know the derivative for the sigmoid activation function\n",
    "\n",
    "$$\\frac{d}{dx}sigmoid(x) = x(1-x)$$\n",
    " \n",
    "and for the logloss cost function:\n",
    " \n",
    "$$\n",
    "\\begin{equation} \n",
    "\\begin{aligned}\n",
    "J &= -  \\left(y \\log(a_2) + (1-y) \\log(1-a_2)\\right)\\\\\n",
    "\\frac{dJ}{da_2} &= - \\left( \\frac{y}{a_2} - \\frac{1-y}{1-a_2}\\right) = \\frac{a_2-y}{a_2(1-a_2)}\n",
    "\\end{aligned}\n",
    "\\end{equation}\n",
    "$$"
   ]
  },
  {
   "cell_type": "markdown",
   "metadata": {
    "id": "4M6V8ed1LCX1"
   },
   "source": [
    "We start calculating the gradients from the last node and propagate backwards using the chain rule for partial derivatives:"
   ]
  },
  {
   "cell_type": "markdown",
   "metadata": {
    "id": "HUWQcXoxLCX1"
   },
   "source": [
    "$$\\begin{equation}\n",
    "\\begin{aligned}\n",
    "\\frac{\\partial J}{\\partial a^{(2)}} &= \\frac{a^{(2)}-y}{a^{(2)}\\left(1-a^{(2)}\\right)} \\\\\n",
    "\\frac{\\partial J}{\\partial z^{(2)}} &= \\frac{\\partial J}{\\partial a^{(2)}}\\frac{\\partial a^{(2)}}{\\partial z^{(2)}}\n",
    "=\\frac{a^{(2)}-y}{a^{(2)}\\left(1-a^{(2)}\\right)}a^{(2)}\\left(1-a^{(2)}\\right) \n",
    "= a^{(2)}-y \\\\\n",
    "\\frac{\\partial J}{\\partial w_1^{(2)}} &= \\frac{\\partial J}{\\partial z^{(2)}}\\frac{\\partial z^{(2)}}{\\partial w_1^{(2)}}\n",
    "= \\left(a^{(2)}-y\\right)\\ a_1^{(1)}\\\\\n",
    "\\frac{\\partial J}{\\partial w_2^{(2)}} &= \\frac{\\partial J}{\\partial z^{(2)}}\\frac{\\partial z^{(2)}}{\\partial w_2^{(2)}}\n",
    "= \\left(a^{(2)}-y\\right)\\ a_2^{(1)}\\\\\n",
    "\\frac{\\partial J}{\\partial b^{(2)}} &= \\frac{\\partial J}{\\partial z^{(2)}}\\frac{\\partial z^{(2)}}{\\partial b^{(2)}}\n",
    "= \\left(a^{(2)}-y\\right)\\\\\n",
    "\\frac{\\partial J}{\\partial a_1^{(1)}} &= \\frac{\\partial J}{\\partial z^{(2)}}\\frac{\\partial z^{(2)}}{\\partial a_1^{(1)}}\n",
    "= \\left(a^{(2)}-y\\right)\\ w_1^{(2)}\\\\\n",
    "\\frac{\\partial J}{\\partial a_2^{(1)}} &= \\frac{\\partial J}{\\partial z^{(2)}}\\frac{\\partial z^{(2)}}{\\partial a_2^{(1)}}\n",
    "= \\left(a^{(2)}-y\\right)\\ w_2^{(2)}\\\\\n",
    "\\frac{\\partial J}{\\partial z_1^{(1)}} &= \\frac{\\partial J}{\\partial a_1^{(1)}}\\frac{\\partial a_1^{(1)}}{\\partial z_1^{(1)}}\n",
    "= \\left(a^{(2)}-y\\right)\\ w_1^{(2)}\\ a_1^{(1)}\\left(1-a_1^{(1)}\\right)\\\\\n",
    "\\frac{\\partial J}{\\partial z_2^{(1)}}\n",
    "&= \\frac{\\partial J}{\\partial a_2^{(1)}}\\frac{\\partial a_2^{(1)}}{\\partial z_2^{(1)}}\n",
    "= \\left(a^{(2)}-y\\right)\\ w_2^{(2)}\\ a_2^{(1)}\\left(1-a_2^{(1)}\\right)\\\\\n",
    "\\frac{\\partial J}{\\partial w_{11}^{(1)}}\n",
    "&= \\frac{\\partial J}{\\partial z_1^{(1)}}\\frac{\\partial z_1^{(1)}}{\\partial w_{11}^{(1)}}\n",
    "= \\left(a^{(2)}-y\\right)\\ w_1^{(2)}\\ a_1^{(1)}\\left(1-a_1^{(1)}\\right)\\ x_1\\\\\n",
    "\\frac{\\partial J}{\\partial w_{21}^{(1)}}\n",
    "&= \\frac{\\partial J}{\\partial z_1^{(1)}}\\frac{\\partial z_1^{(1)}}{\\partial w_{21}^{(1)}}\n",
    "= \\left(a^{(2)}-y\\right)\\ w_1^{(2)}\\ a_1^{(1)}\\left(1-a_1^{(1)}\\right)\\ x_2\\\\\n",
    "\\frac{\\partial J}{\\partial w_{12}^{(1)}}\n",
    "&= \\frac{\\partial J}{\\partial z_2^{(1)}}\\frac{\\partial z_2^{(1)}}{\\partial w_{12}^{(1)}}\n",
    "= \\left(a^{(2)}-y\\right)\\ w_2^{(2)}\\ a_2^{(1)}\\left(1-a_2^{(1)}\\right)\\ x_1\\\\\n",
    "\\frac{\\partial J}{\\partial w_{22}^{(1)}}\n",
    "&= \\frac{\\partial J}{\\partial z_2^{(1)}}\\frac{\\partial z_2^{(1)}}{\\partial w_{22}^{(1)}}\n",
    "= \\left(a^{(2)}-y\\right)\\ w_2^{(2)}\\ a_2^{(1)}\\left(1-a_2^{(1)}\\right)\\ x_2\\\\\n",
    "\\frac{\\partial J}{\\partial b_1^{(1)}}\n",
    "&= \\frac{\\partial J}{\\partial z_1^{(1)}}\\frac{\\partial z_1^{(1)}}{\\partial b_1^{(1)}}\n",
    "= \\left(a^{(2)}-y\\right)\\ w_1^{(2)}\\ a_1^{(1)}\\left(1-a_1^{(1)}\\right)\\\\\n",
    "\\frac{\\partial J}{\\partial b_2^{(1)}}\n",
    "&= \\frac{\\partial J}{\\partial z_2^{(1)}}\\frac{\\partial z_2^{(1)}}{\\partial b_2^{(1)}}\n",
    "= \\left(a^{(2)}-y\\right)\\ w_2^{(2)}\\ a_2^{(1)}\\left(1-a_2^{(1)}\\right)\\\\\n",
    "\\end{aligned}\n",
    "\\end{equation}$$"
   ]
  },
  {
   "cell_type": "markdown",
   "metadata": {
    "id": "6Ntm3aJqLCX2"
   },
   "source": [
    "### Vectorizing the Forward and Backward Propagation equations\n",
    "Forward propagation:\n",
    "\n",
    "$$\n",
    "\\begin{equation}\n",
    "\\left(x_1, x_2 \\right)  \\to\n",
    "\\left( z_1^{(1)}, z_2^{(1)} \\right)\n",
    "\\to\n",
    "\\left(a_1^{(1)}, a_2^{(1)} \\right)\n",
    "\\to\n",
    "z^{(2)}\n",
    "\\to\n",
    "p = a^{(2)}\n",
    "\\end{equation}\n",
    "$$\n",
    "\n",
    "with the equations:\n",
    "\n",
    "$$\n",
    "\\begin{equation}\n",
    "\\begin{split}\n",
    "&z_1^{(1)}= w_{11}^{(1)}x_1 + w_{21}^{(1)}x_2 + b_1^{(1)} \\\\\n",
    "&z_2^{(1)}= w_{12}^{(1)}x_1 + w_{22}^{(1)}x_2 + b_2^{(1)} \\\\\n",
    "\\end{split}\n",
    "\\quad \\quad \\quad\n",
    "\\begin{split}\n",
    "&a_1^{(1)}= g(z_1^{(1)}) \\\\\n",
    "&a_2^{(1)}= g(z_2^{(1)}) \\\\\n",
    "\\end{split}\n",
    "\\quad \\quad \\quad\n",
    "z^{(2)} = w_{1}^{(2)}a_1^{(1)} + w_{2}^{(2)}a_2^{(1)} + b^{(2)}\n",
    "\\quad \\quad \\quad\n",
    "a^{(2)} = g(z^{(2)})\n",
    "\\end{equation}\n",
    "$$"
   ]
  },
  {
   "cell_type": "markdown",
   "metadata": {
    "id": "iIK7N70BLCX2"
   },
   "source": [
    "Converting the set of equations into matrix operations:"
   ]
  },
  {
   "cell_type": "markdown",
   "metadata": {
    "id": "Kd08BR6PLCX2"
   },
   "source": [
    "$$\n",
    "\\left( z_1^{(1)}, z_2^{(1)} \\right)\n",
    "= \\left(x_1, x_2 \\right) \n",
    "\\begin{pmatrix}\n",
    "w_{11}^{(1)} & w_{12}^{(1)} \\\\\n",
    "w_{21}^{(1)} & w_{22}^{(1)} \\\\\n",
    "\\end{pmatrix}\n",
    "+ \\left( b_1^{(1)}, b_2^{(1)} \\right)\n",
    "\\quad \\quad \\text{and} \\quad \\quad\n",
    "\\left( a_1^{(1)}, a_2^{(1)} \\right) \n",
    "= \\left( g(z_1^{(1)}), g(z_2^{(1)}) \\right) \n",
    "= g\\left( z_1^{(1)}, z_2^{(1)} \\right)\n",
    "\\quad \\quad \\text{and} \\quad \\quad\n",
    "z^{(2)} = w_{1}^{(2)}a_1^{(1)} + w_{2}^{(2)}a_2^{(1)} + b^{(2)}\n",
    "$$"
   ]
  },
  {
   "cell_type": "markdown",
   "metadata": {
    "id": "TE9ay7YGLCX3"
   },
   "source": [
    "In the vectorized form, the equations are:"
   ]
  },
  {
   "cell_type": "markdown",
   "metadata": {
    "id": "12KvaIH1LCX3"
   },
   "source": [
    "$$\n",
    "\\begin{equation}\n",
    "z^{(1)} = x \\  W^{(1)} + b^{(1)}, \\quad \\quad \\quad\n",
    "a^{(1)} = g(z^{(1)}), \\quad \\quad \\quad\n",
    "z^{(2)} = a^{(1)} W^{(2)}  + b^{(2)}, \\quad \\quad \\quad\n",
    "a^{(2)} = g(z^{(2)}),\n",
    "\\end{equation}\n",
    "$$\n",
    "\n",
    "where\n",
    "\n",
    "$$\n",
    "\\begin{equation}\n",
    "z^{(1)} = \\left( z_1^{(1)}, z_2^{(1)} \\right)\n",
    ", \\quad \\quad x = \\left(x_1, x_2 \\right) \n",
    ", \\quad \\quad W^{(1)} =\n",
    "\\begin{pmatrix}\n",
    "w_{11}^{(1)} & w_{12}^{(1)} \\\\\n",
    "w_{21}^{(1)} & w_{22}^{(1)} \\\\\n",
    "\\end{pmatrix}\n",
    ", \\quad \\quad b^{(1)} = \\left( b_1^{(1)}, b_2^{(1)} \\right)\n",
    ", \\quad \\quad a^{(1)} = \\left( a_1^{(1)}, a_2^{(1)} \\right)\n",
    ", \\quad \\quad W^{(2)} =\n",
    "\\begin{pmatrix}\n",
    "w_{1}^{(2)} \\\\\n",
    "w_{2}^{(2)} \\\\\n",
    "\\end{pmatrix}\n",
    "\\end{equation}\n",
    "$$"
   ]
  },
  {
   "cell_type": "markdown",
   "metadata": {
    "id": "ufO5HeLdLCX3"
   },
   "source": [
    "In the vectorized form, the forward propagation is given by:"
   ]
  },
  {
   "cell_type": "markdown",
   "metadata": {
    "id": "YD7ilgDGLCX3"
   },
   "source": [
    "$$\n",
    "\\begin{equation}\n",
    "x \\longrightarrow z^{(1)} = x \\ W^{(1)} + b^{(1)}\n",
    "\\longrightarrow\n",
    "a^{(1)} = g(z^{(1)})\n",
    "\\longrightarrow\n",
    "z^{(2)} = a^{(1)} W^{(2)} + b^{(2)}\n",
    "\\longrightarrow\n",
    "a^{(2)} = g(z^{(2)})\n",
    "\\longrightarrow\n",
    "p = a^{(2)}\n",
    "\\end{equation}\n",
    "$$"
   ]
  },
  {
   "cell_type": "markdown",
   "metadata": {
    "id": "SMfpAmGGLCX4"
   },
   "source": [
    "Can you write the vectorized equations for the backpropagation based on the partial derivatives calculated above? (This exercise will be crucial for implementing the back propagation code in the first assignment.)\n",
    "\n",
    "$$\n",
    "\\begin{equation}\n",
    "\\begin{matrix} \n",
    "dW^{(1)} &=& ?\\\\\n",
    "db^{(1)} &=& ?\n",
    "\\end{matrix}\n",
    "\\quad \\longleftarrow \\quad\n",
    "dz^{(1)} = \\quad ?\n",
    "\\quad \\longleftarrow \\quad\n",
    "\\begin{matrix} \n",
    "dW^{(2)} &=& ?\\\\\n",
    "da^{(1)} &=& ?\\\\\n",
    "db^{(2)} &=& ?\\\\\n",
    "\\end{matrix}\n",
    "\\quad \\quad \\longleftarrow \\quad \\quad\n",
    "dz^{(2)} = \\quad ?\n",
    "\\quad \\longleftarrow \\quad\n",
    "da^{(2)} = \\quad ?\n",
    "\\end{equation}\n",
    "$$\n",
    "where \n",
    "$$\n",
    "\\begin{equation}\n",
    "\\begin{aligned}\n",
    "& dW^{(1)} =\n",
    "\\begin{pmatrix}\n",
    "\\frac{\\partial J}{\\partial w_{11}^{(1)}} & \\frac{\\partial J}{\\partial w_{12}^{(1)}} \\\\\n",
    "\\frac{\\partial J}{\\partial w_{21}^{(1)}} & \\frac{\\partial J}{\\partial w_{22}^{(1)}} \\\\\n",
    "\\end{pmatrix}\n",
    "& db^{(1)} =\n",
    "\\begin{pmatrix}\n",
    "\\frac{\\partial J}{\\partial b_1^{(1)}},& \n",
    "\\frac{\\partial J}{\\partial b_2^{(1)}}\n",
    "\\end{pmatrix}\n",
    "& \\quad \\quad  \\quad dz^{(1)} =\n",
    "\\begin{pmatrix}\n",
    "\\frac{\\partial J}{\\partial z_1^{(1)}},& \n",
    "\\frac{\\partial J}{\\partial z_2^{(1)}}\n",
    "\\end{pmatrix}\n",
    "& \\quad   \\quad da^{(1)} =\n",
    "\\begin{pmatrix}\n",
    "\\frac{\\partial J}{\\partial a_1^{(1)}},& \n",
    "\\frac{\\partial J}{\\partial a_2^{(1)}}\n",
    "\\end{pmatrix}\n",
    "\\quad   \\\\\n",
    "& dW^{(2)} =\n",
    "\\begin{pmatrix}\n",
    "\\frac{\\partial J}{\\partial w_1^{(2)}} \\\\\n",
    "\\frac{\\partial J}{\\partial w_2^{(2)}}\n",
    "\\end{pmatrix} \n",
    "& db^{(2)} = \\frac{\\partial J}{\\partial b^{(2)}}\n",
    "& \\quad \\quad   \\quad dz^{(2)} = \\frac{\\partial J}{\\partial z^{(2)}}\n",
    "&  \\ \\quad \\quad da^{(2)} = \\frac{\\partial J}{\\partial a^{(2)}}\n",
    "\\quad \\quad\n",
    "\\end{aligned}\n",
    "\\end{equation}\n",
    "$$\n",
    "\n",
    "Note: It is important to get the order of matrices and matrix operations right. You should check that your solution works even if you change the number of nodes in the input and hidden layer nodes.\n",
    "\n",
    "Tip: You can express some of these gradients in terms of other gradients and use that to simplify the equations. For example, can you write $db^{(2)}$ in terms of  $dz^{(2)}$? This simplification will also be helpful while implementing the code."
   ]
  },
  {
   "cell_type": "markdown",
   "metadata": {
    "id": "pJUDhossfBxN"
   },
   "source": [
    "In simpler form,\n",
    "$$\n",
    "\\begin{multline*}\n",
    "\\begin{matrix} \n",
    "dW^{(1)} &=& x^T @ dz^{(1)} \\\\\n",
    "db^{(1)} &=& dz^{(1)} \n",
    "\\end{matrix}\n",
    " \\quad \\longleftarrow \\quad\n",
    "dz^{(1)} =  dz^{(2)} @ \\left(W^{(2)}\\right)^T * a^{(1)} * \\left(1-a^{(1)}\\right)\n",
    " \\quad \\longleftarrow \\quad\n",
    "\\begin{matrix} \n",
    "dW^{(2)} &=& \\left(a^{(1)}\\right)^T @ dz^{(2)} \\\\\n",
    "da^{(1)} &=& dz^{(2)} @ \\left(W^{(2)}\\right)^T\\\\\n",
    "db^{(2)} &=& dz^{(2)} \\\\\n",
    "\\end{matrix} \\\\\n",
    " \\quad \\longleftarrow \\quad  dz^{(2)} = a^{(2)}-y \n",
    " \\quad \\longleftarrow \\quad  da^{(2)} = \\frac{a^{(2)}-y}{a^{(2)}\\left(1-a^{(2)}\\right)}\n",
    "\\end{multline*}\n",
    "$$\n",
    "\n",
    "For code implementation:\n",
    "\n",
    "$dz_2 = a_2 - y$\n",
    "\n",
    "$db_2 = dz_2$\n",
    "\n",
    "$dW_2 = a_1^T @ dz_2$\n",
    "\n",
    "$dz_1 = (dz_2@ W_2^T) * a_1 * (1-a_1)$\n",
    "\n",
    "$db_1 = dz_1$\n",
    "\n",
    "$dW_1 = x^T@dz_1$\n"
   ]
  },
  {
   "cell_type": "markdown",
   "metadata": {
    "id": "JKye_5oDfRZk"
   },
   "source": [
    "In longer form,\n",
    "$$\n",
    "\\begin{multline*}\n",
    "\\begin{matrix} \n",
    "dW^{(1)} &=& x^T @ \\left(a^{(2)}-y\\right) @ \\left(W^{(2)}\\right)^T * a^{(1)} * \\left(1-a^{(1)}\\right)\\\\\n",
    "db^{(1)} &=& \\left(a^{(2)}-y\\right) @ \\left(W^{(2)}\\right)^T * a^{(1)} * \\left(1-a^{(1)}\\right)\n",
    "\\end{matrix}\n",
    " \\quad \\longleftarrow \\quad\n",
    "dz^{(1)} =  \\left(a^{(2)}-y\\right) @ \\left(W^{(2)}\\right)^T * a^{(1)} * \\left(1-a^{(1)}\\right) \\\\\n",
    "\\quad \\longleftarrow \\quad \n",
    "\\begin{matrix} \n",
    "dW^{(2)} &=& \\left(a^{(1)}\\right)^T @ \\left(a^{(2)}-y\\right)\\\\\n",
    "da^{(1)} &=& \\left(a^{(2)}-y\\right) @ \\left(W^{(2)}\\right)^T\\\\\n",
    "db^{(2)} &=& \\left(a^{(2)}-y\\right)\\\\\n",
    "\\end{matrix}\n",
    " \\quad \\longleftarrow \\quad \n",
    "dz^{(2)} = a^{(2)}-y\n",
    " \\quad \\longleftarrow \\quad\n",
    "da^{(2)} = \\frac{a^{(2)}-y}{a^{(2)}\\left(1-a^{(2)}\\right)}\n",
    "\\end{multline*}\n",
    "$$\n"
   ]
  }
 ],
 "metadata": {
  "celltoolbar": "Slideshow",
  "colab": {
   "collapsed_sections": [],
   "name": "L2.ipynb",
   "provenance": []
  },
  "kernelspec": {
   "display_name": "Python 3 (ipykernel)",
   "language": "python",
   "name": "python3"
  },
  "language_info": {
   "codemirror_mode": {
    "name": "ipython",
    "version": 3
   },
   "file_extension": ".py",
   "mimetype": "text/x-python",
   "name": "python",
   "nbconvert_exporter": "python",
   "pygments_lexer": "ipython3",
   "version": "3.9.12"
  }
 },
 "nbformat": 4,
 "nbformat_minor": 1
}
